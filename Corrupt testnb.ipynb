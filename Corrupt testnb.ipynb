{asdfdf
 "cells": [
  {
   "cell_type": "code",
   "execution_count": 0,
   "metadata": {
    "application/vnd.databricks.v1+cell": {
     "cellMetadata": {
      "byteLimit": 2048000,
      "rowLimit": 10000
     },
     "inputWidgets": {},
     "nuid": "97d9910c-51d5-4b16-a618-67237a60e9ff",
     "showTitle": false,
     "title": ""
    }
   },
   "outputs": [],
   "source": [
    "(\"a\"*10240).encode('utf-8')"
   ]
  },
  {
   "cell_type": "code",
   "execution_count": 0,
   "metadata": {
    "application/vnd.databricks.v1+cell": {
     "cellMetadata": {
      "byteLimit": 2048000,
      "rowLimit": 10000
     },
     "inputWidgets": {},
     "nuid": "4dc23e0f-1ae2-4eab-ae20-fbca7fa88ed5",
     "showTitle": false,
     "title": ""
    }
   },
   "outputs": [],
   "source": [
    "(\"a\"*10240).encode('utf-8')"
   ]
  },
  {
   "cell_type": "code",
   "execution_count": 0,
   "metadata": {
    "application/vnd.databricks.v1+cell": {
     "cellMetadata": {
      "byteLimit": 2048000,
      "rowLimit": 10000
     },
     "inputWidgets": {},
     "nuid": "51e7e71d-d7b5-463e-8be0-65a7f15bd15b",
     "showTitle": false,
     "title": ""
    }
   },
   "outputs": [],
   "source": [
    "(\"a\"*10240).encode('utf-8')"
   ]
  },
  {
   "cell_type": "code",
   "execution_count": 0,
   "metadata": {
    "application/vnd.databricks.v1+cell": {
     "cellMetadata": {
      "byteLimit": 2048000,
      "rowLimit": 10000
     },
     "inputWidgets": {},
     "nuid": "f2f12837-160d-4e4e-92c5-cc2cae3f7074",
     "showTitle": false,
     "title": ""
    }
   },
   "outputs": [],
   "source": [
    "(\"a\"*10240).encode('utf-8')"
   ]
  },
  {
   "cell_type": "code",
   "execution_count": 0,
   "metadata": {
    "application/vnd.databricks.v1+cell": {
     "cellMetadata": {
      "byteLimit": 2048000,
      "rowLimit": 10000
     },
     "inputWidgets": {},
     "nuid": "b4f6b034-bb04-441b-915b-b2e2791ff513",
     "showTitle": false,
     "title": ""
    }
   },
   "outputs": [],
   "source": [
    "(\"a\"*10240).encode('utf-8')"
   ]
  },
  {
   "cell_type": "code",
   "execution_count": 0,
   "metadata": {
    "application/vnd.databricks.v1+cell": {
     "cellMetadata": {
      "byteLimit": 2048000,
      "rowLimit": 10000
     },
     "inputWidgets": {},
     "nuid": "c87bbff6-244b-4014-9b86-7c9856a75dcd",
     "showTitle": false,
     "title": ""
    }
   },
   "outputs": [],
   "source": [
    "(\"a\"*10240).encode('utf-8')"
   ]
  },
  {
   "cell_type": "code",
   "execution_count": 0,
   "metadata": {
    "application/vnd.databricks.v1+cell": {
     "cellMetadata": {
      "byteLimit": 2048000,
      "rowLimit": 10000
     },
     "inputWidgets": {},
     "nuid": "a92db4dc-5e5a-48a6-9ac2-afc345d372b5",
     "showTitle": false,
     "title": ""
    }
   },
   "outputs": [],
   "source": [
    "(\"a\"*10240).encode('utf-8')"
   ]
  },
  {
   "cell_type": "code",
   "execution_count": 0,
   "metadata": {
    "application/vnd.databricks.v1+cell": {
     "cellMetadata": {
      "byteLimit": 2048000,
      "rowLimit": 10000
     },
     "inputWidgets": {},
     "nuid": "922b7cd7-be3c-4142-b7b0-54d82617fdf9",
     "showTitle": false,
     "title": ""
    }
   },
   "outputs": [],
   "source": [
    "(\"a\"*10240).encode('utf-8')"
   ]
  },
  {
   "cell_type": "code",
   "execution_count": 0,
   "metadata": {
    "application/vnd.databricks.v1+cell": {
     "cellMetadata": {
      "byteLimit": 2048000,
      "rowLimit": 10000
     },
     "inputWidgets": {},
     "nuid": "a2026121-2ca8-486e-8577-c0f6e517d087",
     "showTitle": false,
     "title": ""
    }
   },
   "outputs": [],
   "source": [
    "(\"a\"*10240).encode('utf-8')"
   ]
  },
  {
   "cell_type": "code",
   "execution_count": 0,
   "metadata": {
    "application/vnd.databricks.v1+cell": {
     "cellMetadata": {
      "byteLimit": 2048000,
      "rowLimit": 10000
     },
     "inputWidgets": {},
     "nuid": "ae0f76ab-bdd4-4736-97b7-3570397aee9f",
     "showTitle": false,
     "title": ""
    }
   },
   "outputs": [],
   "source": [
    "(\"a\"*10240).encode('utf-8')"
   ]
  },
  {
   "cell_type": "code",
   "execution_count": 0,
   "metadata": {
    "application/vnd.databricks.v1+cell": {
     "cellMetadata": {
      "byteLimit": 2048000,
      "rowLimit": 10000
     },
     "inputWidgets": {},
     "nuid": "4ee27114-c8bb-4e05-b2ad-892b310721cb",
     "showTitle": false,
     "title": ""
    }
   },
   "outputs": [],
   "source": [
    "(\"a\"*10240).encode('utf-8')"
   ]
  },
  {
   "cell_type": "code",
   "execution_count": 0,
   "metadata": {
    "application/vnd.databricks.v1+cell": {
     "cellMetadata": {
      "byteLimit": 2048000,
      "rowLimit": 10000
     },
     "inputWidgets": {},
     "nuid": "aac1cc67-e528-4e80-9173-9a1f31436600",
     "showTitle": false,
     "title": ""
    }
   },
   "outputs": [],
   "source": [
    "(\"a\"*10240).encode('utf-8')"
   ]
  },
  {
   "cell_type": "code",
   "execution_count": 0,
   "metadata": {
    "application/vnd.databricks.v1+cell": {
     "cellMetadata": {
      "byteLimit": 2048000,
      "rowLimit": 10000
     },
     "inputWidgets": {},
     "nuid": "63724198-edb2-4af5-8021-461de607d680",
     "showTitle": false,
     "title": ""
    }
   },
   "outputs": [],
   "source": [
    "(\"a\"*10240).encode('utf-8')"
   ]
  },
  {
   "cell_type": "code",
   "execution_count": 0,
   "metadata": {
    "application/vnd.databricks.v1+cell": {
     "cellMetadata": {
      "byteLimit": 2048000,
      "rowLimit": 10000
     },
     "inputWidgets": {},
     "nuid": "6134f7d6-bf7a-4235-9aa3-99f6251037da",
     "showTitle": false,
     "title": ""
    }
   },
   "outputs": [],
   "source": [
    "(\"a\"*10240).encode('utf-8')"
   ]
  },
  {
   "cell_type": "code",
   "execution_count": 0,
   "metadata": {
    "application/vnd.databricks.v1+cell": {
     "cellMetadata": {
      "byteLimit": 2048000,
      "rowLimit": 10000
     },
     "inputWidgets": {},
     "nuid": "ba7bc82d-a4bb-4d43-9889-492a7755198f",
     "showTitle": false,
     "title": ""
    }
   },
   "outputs": [],
   "source": [
    "(\"a\"*10240).encode('utf-8')"
   ]
  },
  {
   "cell_type": "code",
   "execution_count": 0,
   "metadata": {
    "application/vnd.databricks.v1+cell": {
     "cellMetadata": {
      "byteLimit": 2048000,
      "rowLimit": 10000
     },
     "inputWidgets": {},
     "nuid": "b16fe591-0478-4992-a152-93dae834c0e9",
     "showTitle": false,
     "title": ""
    }
   },
   "outputs": [],
   "source": [
    "(\"a\"*10240).encode('utf-8')"
   ]
  },
  {
   "cell_type": "code",
   "execution_count": 0,
   "metadata": {
    "application/vnd.databricks.v1+cell": {
     "cellMetadata": {
      "byteLimit": 2048000,
      "rowLimit": 10000
     },
     "inputWidgets": {},
     "nuid": "9eee31b4-19c9-4586-9720-5ab1c264ebb3",
     "showTitle": false,
     "title": ""
    }
   },
   "outputs": [],
   "source": [
    "(\"a\"*10240).encode('utf-8')"
   ]
  },
  {
   "cell_type": "code",
   "execution_count": 0,
   "metadata": {
    "application/vnd.databricks.v1+cell": {
     "cellMetadata": {
      "byteLimit": 2048000,
      "rowLimit": 10000
     },
     "inputWidgets": {},
     "nuid": "fb6d5373-0c6e-41b6-b4d5-2cf06b82ee17",
     "showTitle": false,
     "title": ""
    }
   },
   "outputs": [],
   "source": [
    "(\"a\"*10240).encode('utf-8')"
   ]
  },
  {
   "cell_type": "code",
   "execution_count": 0,
   "metadata": {
    "application/vnd.databricks.v1+cell": {
     "cellMetadata": {
      "byteLimit": 2048000,
      "rowLimit": 10000
     },
     "inputWidgets": {},
     "nuid": "7b3931b1-2068-4501-97f5-f845d93cfa1a",
     "showTitle": false,
     "title": ""
    }
   },
   "outputs": [],
   "source": [
    "(\"a\"*10240).encode('utf-8')"
   ]
  },
  {
   "cell_type": "code",
   "execution_count": 0,
   "metadata": {
    "application/vnd.databricks.v1+cell": {
     "cellMetadata": {
      "byteLimit": 2048000,
      "rowLimit": 10000
     },
     "inputWidgets": {},
     "nuid": "51149bcd-1a5f-4ba2-a4b7-55a32ea73537",
     "showTitle": false,
     "title": ""
    }
   },
   "outputs": [],
   "source": [
    "(\"a\"*10240).encode('utf-8')"
   ]
  },
  {
   "cell_type": "code",
   "execution_count": 0,
   "metadata": {
    "application/vnd.databricks.v1+cell": {
     "cellMetadata": {
      "byteLimit": 2048000,
      "rowLimit": 10000
     },
     "inputWidgets": {},
     "nuid": "dc5ca2fa-8c8f-488f-8b82-d933c6b875a8",
     "showTitle": false,
     "title": ""
    }
   },
   "outputs": [],
   "source": [
    "(\"a\"*10240).encode('utf-8')"
   ]
  },
  {
   "cell_type": "code",
   "execution_count": 0,
   "metadata": {
    "application/vnd.databricks.v1+cell": {
     "cellMetadata": {
      "byteLimit": 2048000,
      "rowLimit": 10000
     },
     "inputWidgets": {},
     "nuid": "6b4b912d-a62a-4b4e-aedf-acbcf20be2ed",
     "showTitle": false,
     "title": ""
    }
   },
   "outputs": [],
   "source": [
    "(\"a\"*10240).encode('utf-8')"
   ]
  },
  {
   "cell_type": "code",
   "execution_count": 0,
   "metadata": {
    "application/vnd.databricks.v1+cell": {
     "cellMetadata": {
      "byteLimit": 2048000,
      "rowLimit": 10000
     },
     "inputWidgets": {},
     "nuid": "e7b4f3e9-af0e-47d8-a0ea-1d691a06208b",
     "showTitle": false,
     "title": ""
    }
   },
   "outputs": [],
   "source": [
    "(\"a\"*10240).encode('utf-8')"
   ]
  },
  {
   "cell_type": "code",
   "execution_count": 0,
   "metadata": {
    "application/vnd.databricks.v1+cell": {
     "cellMetadata": {
      "byteLimit": 2048000,
      "rowLimit": 10000
     },
     "inputWidgets": {},
     "nuid": "3dd94def-e944-4789-9fbd-770334f7b1fa",
     "showTitle": false,
     "title": ""
    }
   },
   "outputs": [],
   "source": [
    "(\"a\"*10240).encode('utf-8')"
   ]
  },
  {
   "cell_type": "code",
   "execution_count": 0,
   "metadata": {
    "application/vnd.databricks.v1+cell": {
     "cellMetadata": {
      "byteLimit": 2048000,
      "rowLimit": 10000
     },
     "inputWidgets": {},
     "nuid": "e02be586-8fae-4fed-a165-7f4d783c253d",
     "showTitle": false,
     "title": ""
    }
   },
   "outputs": [],
   "source": [
    "(\"a\"*10240).encode('utf-8')"
   ]
  },
  {
   "cell_type": "code",
   "execution_count": 0,
   "metadata": {
    "application/vnd.databricks.v1+cell": {
     "cellMetadata": {
      "byteLimit": 2048000,
      "rowLimit": 10000
     },
     "inputWidgets": {},
     "nuid": "76a47a9f-4f96-4307-8a54-b35e50fc1160",
     "showTitle": false,
     "title": ""
    }
   },
   "outputs": [],
   "source": [
    "(\"a\"*10240).encode('utf-8')"
   ]
  },
  {
   "cell_type": "code",
   "execution_count": 0,
   "metadata": {
    "application/vnd.databricks.v1+cell": {
     "cellMetadata": {
      "byteLimit": 2048000,
      "rowLimit": 10000
     },
     "inputWidgets": {},
     "nuid": "15382a8f-a185-43ea-8ca4-ad85236694ac",
     "showTitle": false,
     "title": ""
    }
   },
   "outputs": [],
   "source": [
    "(\"a\"*10240).encode('utf-8')"
   ]
  },
  {
   "cell_type": "code",
   "execution_count": 0,
   "metadata": {
    "application/vnd.databricks.v1+cell": {
     "cellMetadata": {
      "byteLimit": 2048000,
      "rowLimit": 10000
     },
     "inputWidgets": {},
     "nuid": "63f1708f-9758-47ab-a597-d1fe899154ba",
     "showTitle": false,
     "title": ""
    }
   },
   "outputs": [],
   "source": [
    "(\"a\"*10240).encode('utf-8')"
   ]
  },
  {
   "cell_type": "code",
   "execution_count": 0,
   "metadata": {
    "application/vnd.databricks.v1+cell": {
     "cellMetadata": {
      "byteLimit": 2048000,
      "rowLimit": 10000
     },
     "inputWidgets": {},
     "nuid": "87544d27-1ff6-47d9-bba1-591bd2e325c8",
     "showTitle": false,
     "title": ""
    }
   },
   "outputs": [],
   "source": [
    "(\"a\"*10240).encode('utf-8')"
   ]
  },
  {
   "cell_type": "code",
   "execution_count": 0,
   "metadata": {
    "application/vnd.databricks.v1+cell": {
     "cellMetadata": {
      "byteLimit": 2048000,
      "rowLimit": 10000
     },
     "inputWidgets": {},
     "nuid": "89945d04-cc50-44f7-a9e4-4c84cb1aff17",
     "showTitle": false,
     "title": ""
    }
   },
   "outputs": [],
   "source": [
    "(\"a\"*10240).encode('utf-8')"
   ]
  },
  {
   "cell_type": "code",
   "execution_count": 0,
   "metadata": {
    "application/vnd.databricks.v1+cell": {
     "cellMetadata": {
      "byteLimit": 2048000,
      "rowLimit": 10000
     },
     "inputWidgets": {},
     "nuid": "6a3fd32c-03cd-40db-95e5-d379569bf3b1",
     "showTitle": false,
     "title": ""
    }
   },
   "outputs": [],
   "source": [
    "(\"a\"*10240).encode('utf-8')"
   ]
  },
  {
   "cell_type": "code",
   "execution_count": 0,
   "metadata": {
    "application/vnd.databricks.v1+cell": {
     "cellMetadata": {
      "byteLimit": 2048000,
      "rowLimit": 10000
     },
     "inputWidgets": {},
     "nuid": "20625c5d-b2c4-48fc-b96d-4abb72cdb639",
     "showTitle": false,
     "title": ""
    }
   },
   "outputs": [],
   "source": [
    "(\"a\"*10240).encode('utf-8')"
   ]
  },
  {
   "cell_type": "code",
   "execution_count": 0,
   "metadata": {
    "application/vnd.databricks.v1+cell": {
     "cellMetadata": {
      "byteLimit": 2048000,
      "rowLimit": 10000
     },
     "inputWidgets": {},
     "nuid": "b26702eb-f143-4528-89e9-a0759278bcf7",
     "showTitle": false,
     "title": ""
    }
   },
   "outputs": [],
   "source": [
    "(\"a\"*10240).encode('utf-8')"
   ]
  },
  {
   "cell_type": "code",
   "execution_count": 0,
   "metadata": {
    "application/vnd.databricks.v1+cell": {
     "cellMetadata": {
      "byteLimit": 2048000,
      "rowLimit": 10000
     },
     "inputWidgets": {},
     "nuid": "d80335ff-7924-49e7-bcb7-e8e0ef955512",
     "showTitle": false,
     "title": ""
    }
   },
   "outputs": [],
   "source": [
    "(\"a\"*10240).encode('utf-8')"
   ]
  },
  {
   "cell_type": "code",
   "execution_count": 0,
   "metadata": {
    "application/vnd.databricks.v1+cell": {
     "cellMetadata": {
      "byteLimit": 2048000,
      "rowLimit": 10000
     },
     "inputWidgets": {},
     "nuid": "e74f578f-c91b-4ebd-93c1-b6822c10d35e",
     "showTitle": false,
     "title": ""
    }
   },
   "outputs": [],
   "source": [
    "(\"a\"*10240).encode('utf-8')"
   ]
  },
  {
   "cell_type": "code",
   "execution_count": 0,
   "metadata": {
    "application/vnd.databricks.v1+cell": {
     "cellMetadata": {
      "byteLimit": 2048000,
      "rowLimit": 10000
     },
     "inputWidgets": {},
     "nuid": "1afb488d-30b1-4b68-bbfe-00f3f5af40c2",
     "showTitle": false,
     "title": ""
    }
   },
   "outputs": [],
   "source": [
    "(\"a\"*10240).encode('utf-8')"
   ]
  },
  {
   "cell_type": "code",
   "execution_count": 0,
   "metadata": {
    "application/vnd.databricks.v1+cell": {
     "cellMetadata": {
      "byteLimit": 2048000,
      "rowLimit": 10000
     },
     "inputWidgets": {},
     "nuid": "07a13f00-1411-4bad-92c1-7d71cac5b30a",
     "showTitle": false,
     "title": ""
    }
   },
   "outputs": [],
   "source": [
    "(\"a\"*10240).encode('utf-8')"
   ]
  },
  {
   "cell_type": "code",
   "execution_count": 0,
   "metadata": {
    "application/vnd.databricks.v1+cell": {
     "cellMetadata": {
      "byteLimit": 2048000,
      "rowLimit": 10000
     },
     "inputWidgets": {},
     "nuid": "b9436aca-7111-4f01-9262-acfcec369bff",
     "showTitle": false,
     "title": ""
    }
   },
   "outputs": [],
   "source": [
    "(\"a\"*10240).encode('utf-8')"
   ]
  },
  {
   "cell_type": "code",
   "execution_count": 0,
   "metadata": {
    "application/vnd.databricks.v1+cell": {
     "cellMetadata": {
      "byteLimit": 2048000,
      "rowLimit": 10000
     },
     "inputWidgets": {},
     "nuid": "a33d80b9-92d1-460c-8993-a6209918d7ec",
     "showTitle": false,
     "title": ""
    }
   },
   "outputs": [],
   "source": [
    "(\"a\"*10240).encode('utf-8')"
   ]
  },
  {
   "cell_type": "code",
   "execution_count": 0,
   "metadata": {
    "application/vnd.databricks.v1+cell": {
     "cellMetadata": {
      "byteLimit": 2048000,
      "rowLimit": 10000
     },
     "inputWidgets": {},
     "nuid": "ea5df797-4920-4330-ba07-cc6c991dc813",
     "showTitle": false,
     "title": ""
    }
   },
   "outputs": [],
   "source": [
    "(\"a\"*10240).encode('utf-8')"
   ]
  },
  {
   "cell_type": "code",
   "execution_count": 0,
   "metadata": {
    "application/vnd.databricks.v1+cell": {
     "cellMetadata": {
      "byteLimit": 2048000,
      "rowLimit": 10000
     },
     "inputWidgets": {},
     "nuid": "a5c7fb08-c3a9-43f4-a465-7bd72e659fa0",
     "showTitle": false,
     "title": ""
    }
   },
   "outputs": [],
   "source": [
    "(\"a\"*10240).encode('utf-8')"
   ]
  },
  {
   "cell_type": "code",
   "execution_count": 0,
   "metadata": {
    "application/vnd.databricks.v1+cell": {
     "cellMetadata": {
      "byteLimit": 2048000,
      "rowLimit": 10000
     },
     "inputWidgets": {},
     "nuid": "4d5ebd2e-c0c8-4b85-beb9-15ffaf2e36bb",
     "showTitle": false,
     "title": ""
    }
   },
   "outputs": [],
   "source": [
    "(\"a\"*10240).encode('utf-8')"
   ]
  },
  {
   "cell_type": "code",
   "execution_count": 0,
   "metadata": {
    "application/vnd.databricks.v1+cell": {
     "cellMetadata": {
      "byteLimit": 2048000,
      "rowLimit": 10000
     },
     "inputWidgets": {},
     "nuid": "2b4b4767-4412-4e95-8f69-0a810e9b8f94",
     "showTitle": false,
     "title": ""
    }
   },
   "outputs": [],
   "source": [
    "(\"a\"*10240).encode('utf-8')"
   ]
  },
  {
   "cell_type": "code",
   "execution_count": 0,
   "metadata": {
    "application/vnd.databricks.v1+cell": {
     "cellMetadata": {
      "byteLimit": 2048000,
      "rowLimit": 10000
     },
     "inputWidgets": {},
     "nuid": "bbf83cbd-812b-42d2-b406-dbb7b9d11f34",
     "showTitle": false,
     "title": ""
    }
   },
   "outputs": [],
   "source": [
    "(\"a\"*10240).encode('utf-8')"
   ]
  },
  {
   "cell_type": "code",
   "execution_count": 0,
   "metadata": {
    "application/vnd.databricks.v1+cell": {
     "cellMetadata": {
      "byteLimit": 2048000,
      "rowLimit": 10000
     },
     "inputWidgets": {},
     "nuid": "a7ea0edb-db68-4b40-9e97-345f96513cfa",
     "showTitle": false,
     "title": ""
    }
   },
   "outputs": [],
   "source": [
    "(\"a\"*10240).encode('utf-8')"
   ]
  },
  {
   "cell_type": "code",
   "execution_count": 0,
   "metadata": {
    "application/vnd.databricks.v1+cell": {
     "cellMetadata": {
      "byteLimit": 2048000,
      "rowLimit": 10000
     },
     "inputWidgets": {},
     "nuid": "b9ed4a7d-4bc2-4b5b-b610-bf8eb6849ae5",
     "showTitle": false,
     "title": ""
    }
   },
   "outputs": [],
   "source": [
    "(\"a\"*10240).encode('utf-8')"
   ]
  },
  {
   "cell_type": "code",
   "execution_count": 0,
   "metadata": {
    "application/vnd.databricks.v1+cell": {
     "cellMetadata": {
      "byteLimit": 2048000,
      "rowLimit": 10000
     },
     "inputWidgets": {},
     "nuid": "b10eae35-c895-44f1-bb10-bcc7f6ae46ed",
     "showTitle": false,
     "title": ""
    }
   },
   "outputs": [],
   "source": [
    "(\"a\"*10240).encode('utf-8')"
   ]
  },
  {
   "cell_type": "code",
   "execution_count": 0,
   "metadata": {
    "application/vnd.databricks.v1+cell": {
     "cellMetadata": {
      "byteLimit": 2048000,
      "rowLimit": 10000
     },
     "inputWidgets": {},
     "nuid": "7c1439aa-f807-421e-8847-c81972a3bd93",
     "showTitle": false,
     "title": ""
    }
   },
   "outputs": [],
   "source": [
    "(\"a\"*10240).encode('utf-8')"
   ]
  },
  {
   "cell_type": "code",
   "execution_count": 0,
   "metadata": {
    "application/vnd.databricks.v1+cell": {
     "cellMetadata": {
      "byteLimit": 2048000,
      "rowLimit": 10000
     },
     "inputWidgets": {},
     "nuid": "8388c6c8-3331-465f-b90c-a7848a409c60",
     "showTitle": false,
     "title": ""
    }
   },
   "outputs": [],
   "source": [
    "(\"a\"*10240).encode('utf-8')"
   ]
  },
  {
   "cell_type": "code",
   "execution_count": 0,
   "metadata": {
    "application/vnd.databricks.v1+cell": {
     "cellMetadata": {
      "byteLimit": 2048000,
      "rowLimit": 10000
     },
     "inputWidgets": {},
     "nuid": "eec287c2-f2ce-4917-8174-dbae6f0eee07",
     "showTitle": false,
     "title": ""
    }
   },
   "outputs": [],
   "source": [
    "(\"a\"*10240).encode('utf-8')"
   ]
  },
  {
   "cell_type": "code",
   "execution_count": 0,
   "metadata": {
    "application/vnd.databricks.v1+cell": {
     "cellMetadata": {
      "byteLimit": 2048000,
      "rowLimit": 10000
     },
     "inputWidgets": {},
     "nuid": "13039f97-ad13-423b-a4f2-50886693c076",
     "showTitle": false,
     "title": ""
    }
   },
   "outputs": [],
   "source": [
    "(\"a\"*10240).encode('utf-8')"
   ]
  },
  {
   "cell_type": "code",
   "execution_count": 0,
   "metadata": {
    "application/vnd.databricks.v1+cell": {
     "cellMetadata": {
      "byteLimit": 2048000,
      "rowLimit": 10000
     },
     "inputWidgets": {},
     "nuid": "c55c55b7-6630-4ab9-9d3f-a61d7931df2e",
     "showTitle": false,
     "title": ""
    }
   },
   "outputs": [],
   "source": [
    "(\"a\"*10240).encode('utf-8')"
   ]
  },
  {
   "cell_type": "code",
   "execution_count": 0,
   "metadata": {
    "application/vnd.databricks.v1+cell": {
     "cellMetadata": {
      "byteLimit": 2048000,
      "rowLimit": 10000
     },
     "inputWidgets": {},
     "nuid": "aefa7748-5443-4a28-a46e-fdc106265fdb",
     "showTitle": false,
     "title": ""
    }
   },
   "outputs": [],
   "source": [
    "(\"a\"*10240).encode('utf-8')"
   ]
  },
  {
   "cell_type": "code",
   "execution_count": 0,
   "metadata": {
    "application/vnd.databricks.v1+cell": {
     "cellMetadata": {
      "byteLimit": 2048000,
      "rowLimit": 10000
     },
     "inputWidgets": {},
     "nuid": "caf4bb93-8929-464b-a7bc-1668332aa056",
     "showTitle": false,
     "title": ""
    }
   },
   "outputs": [],
   "source": [
    "(\"a\"*10240).encode('utf-8')"
   ]
  },
  {
   "cell_type": "code",
   "execution_count": 0,
   "metadata": {
    "application/vnd.databricks.v1+cell": {
     "cellMetadata": {
      "byteLimit": 2048000,
      "rowLimit": 10000
     },
     "inputWidgets": {},
     "nuid": "872d9793-e4ef-4c96-a021-73af0910c531",
     "showTitle": false,
     "title": ""
    }
   },
   "outputs": [],
   "source": [
    "(\"a\"*10240).encode('utf-8')"
   ]
  },
  {
   "cell_type": "code",
   "execution_count": 0,
   "metadata": {
    "application/vnd.databricks.v1+cell": {
     "cellMetadata": {
      "byteLimit": 2048000,
      "rowLimit": 10000
     },
     "inputWidgets": {},
     "nuid": "812e17ea-8399-46be-bab4-a28a32aa2b86",
     "showTitle": false,
     "title": ""
    }
   },
   "outputs": [],
   "source": [
    "(\"a\"*10240).encode('utf-8')"
   ]
  },
  {
   "cell_type": "code",
   "execution_count": 0,
   "metadata": {
    "application/vnd.databricks.v1+cell": {
     "cellMetadata": {
      "byteLimit": 2048000,
      "rowLimit": 10000
     },
     "inputWidgets": {},
     "nuid": "3c8c3cee-14d2-44a7-8174-9e157f284b3e",
     "showTitle": false,
     "title": ""
    }
   },
   "outputs": [],
   "source": [
    "(\"a\"*10240).encode('utf-8')"
   ]
  },
  {
   "cell_type": "code",
   "execution_count": 0,
   "metadata": {
    "application/vnd.databricks.v1+cell": {
     "cellMetadata": {
      "byteLimit": 2048000,
      "rowLimit": 10000
     },
     "inputWidgets": {},
     "nuid": "940db3c9-c416-413a-8ee7-31f67ccc3d3a",
     "showTitle": false,
     "title": ""
    }
   },
   "outputs": [],
   "source": [
    "(\"a\"*10240).encode('utf-8')"
   ]
  },
  {
   "cell_type": "code",
   "execution_count": 0,
   "metadata": {
    "application/vnd.databricks.v1+cell": {
     "cellMetadata": {
      "byteLimit": 2048000,
      "rowLimit": 10000
     },
     "inputWidgets": {},
     "nuid": "228ae9b9-1082-474d-a352-e87c49c464e3",
     "showTitle": false,
     "title": ""
    }
   },
   "outputs": [],
   "source": [
    "(\"a\"*10240).encode('utf-8')"
   ]
  },
  {
   "cell_type": "code",
   "execution_count": 0,
   "metadata": {
    "application/vnd.databricks.v1+cell": {
     "cellMetadata": {
      "byteLimit": 2048000,
      "rowLimit": 10000
     },
     "inputWidgets": {},
     "nuid": "3a4d3f81-11d9-4bad-9acf-fe1c19f4381e",
     "showTitle": false,
     "title": ""
    }
   },
   "outputs": [],
   "source": [
    "(\"a\"*10240).encode('utf-8')"
   ]
  },
  {
   "cell_type": "code",
   "execution_count": 0,
   "metadata": {
    "application/vnd.databricks.v1+cell": {
     "cellMetadata": {
      "byteLimit": 2048000,
      "rowLimit": 10000
     },
     "inputWidgets": {},
     "nuid": "e77da669-9e11-4d75-a38c-3040d918ce9f",
     "showTitle": false,
     "title": ""
    }
   },
   "outputs": [],
   "source": [
    "(\"a\"*10240).encode('utf-8')"
   ]
  },
  {
   "cell_type": "code",
   "execution_count": 0,
   "metadata": {
    "application/vnd.databricks.v1+cell": {
     "cellMetadata": {
      "byteLimit": 2048000,
      "rowLimit": 10000
     },
     "inputWidgets": {},
     "nuid": "ef2b6c56-bdab-48f2-9b54-54170fcaa65a",
     "showTitle": false,
     "title": ""
    }
   },
   "outputs": [],
   "source": [
    "(\"a\"*10240).encode('utf-8')"
   ]
  },
  {
   "cell_type": "code",
   "execution_count": 0,
   "metadata": {
    "application/vnd.databricks.v1+cell": {
     "cellMetadata": {
      "byteLimit": 2048000,
      "rowLimit": 10000
     },
     "inputWidgets": {},
     "nuid": "8fbac0b7-a939-4ac0-8e34-e671e1746190",
     "showTitle": false,
     "title": ""
    }
   },
   "outputs": [],
   "source": [
    "(\"a\"*10240).encode('utf-8')"
   ]
  },
  {
   "cell_type": "code",
   "execution_count": 0,
   "metadata": {
    "application/vnd.databricks.v1+cell": {
     "cellMetadata": {
      "byteLimit": 2048000,
      "rowLimit": 10000
     },
     "inputWidgets": {},
     "nuid": "2ad41db1-be52-4423-aa14-63c58f2e2be5",
     "showTitle": false,
     "title": ""
    }
   },
   "outputs": [],
   "source": [
    "(\"a\"*10240).encode('utf-8')"
   ]
  },
  {
   "cell_type": "code",
   "execution_count": 0,
   "metadata": {
    "application/vnd.databricks.v1+cell": {
     "cellMetadata": {
      "byteLimit": 2048000,
      "rowLimit": 10000
     },
     "inputWidgets": {},
     "nuid": "60be3c19-9fa3-4f1c-90d9-9f1e10a20b79",
     "showTitle": false,
     "title": ""
    }
   },
   "outputs": [],
   "source": [
    "(\"a\"*10240).encode('utf-8')"
   ]
  },
  {
   "cell_type": "code",
   "execution_count": 0,
   "metadata": {
    "application/vnd.databricks.v1+cell": {
     "cellMetadata": {
      "byteLimit": 2048000,
      "rowLimit": 10000
     },
     "inputWidgets": {},
     "nuid": "cc4a8008-2951-4853-b4b0-3b1804e2bbcc",
     "showTitle": false,
     "title": ""
    }
   },
   "outputs": [],
   "source": [
    "(\"a\"*10240).encode('utf-8')"
   ]
  },
  {
   "cell_type": "code",
   "execution_count": 0,
   "metadata": {
    "application/vnd.databricks.v1+cell": {
     "cellMetadata": {
      "byteLimit": 2048000,
      "rowLimit": 10000
     },
     "inputWidgets": {},
     "nuid": "a55d930c-f150-4a84-be62-8909792505f4",
     "showTitle": false,
     "title": ""
    }
   },
   "outputs": [],
   "source": [
    "(\"a\"*10240).encode('utf-8')"
   ]
  },
  {
   "cell_type": "code",
   "execution_count": 0,
   "metadata": {
    "application/vnd.databricks.v1+cell": {
     "cellMetadata": {
      "byteLimit": 2048000,
      "rowLimit": 10000
     },
     "inputWidgets": {},
     "nuid": "4d67e7ff-870b-4e3c-bfec-281d0d04153c",
     "showTitle": false,
     "title": ""
    }
   },
   "outputs": [],
   "source": [
    "(\"a\"*10240).encode('utf-8')"
   ]
  },
  {
   "cell_type": "code",
   "execution_count": 0,
   "metadata": {
    "application/vnd.databricks.v1+cell": {
     "cellMetadata": {
      "byteLimit": 2048000,
      "rowLimit": 10000
     },
     "inputWidgets": {},
     "nuid": "65a4683b-93f6-498d-af95-2cea8f8f385e",
     "showTitle": false,
     "title": ""
    }
   },
   "outputs": [],
   "source": [
    "(\"a\"*10240).encode('utf-8')"
   ]
  },
  {
   "cell_type": "code",
   "execution_count": 0,
   "metadata": {
    "application/vnd.databricks.v1+cell": {
     "cellMetadata": {
      "byteLimit": 2048000,
      "rowLimit": 10000
     },
     "inputWidgets": {},
     "nuid": "94b6b4a7-2453-45cc-94f8-c114b529c015",
     "showTitle": false,
     "title": ""
    }
   },
   "outputs": [],
   "source": [
    "(\"a\"*10240).encode('utf-8')"
   ]
  },
  {
   "cell_type": "code",
   "execution_count": 0,
   "metadata": {
    "application/vnd.databricks.v1+cell": {
     "cellMetadata": {
      "byteLimit": 2048000,
      "rowLimit": 10000
     },
     "inputWidgets": {},
     "nuid": "8db60ffe-4abf-4df7-943c-c4348e7bb1bf",
     "showTitle": false,
     "title": ""
    }
   },
   "outputs": [],
   "source": [
    "(\"a\"*10240).encode('utf-8')"
   ]
  },
  {
   "cell_type": "code",
   "execution_count": 0,
   "metadata": {
    "application/vnd.databricks.v1+cell": {
     "cellMetadata": {
      "byteLimit": 2048000,
      "rowLimit": 10000
     },
     "inputWidgets": {},
     "nuid": "7326df22-6631-4db0-b2b8-d2f6c9359d21",
     "showTitle": false,
     "title": ""
    }
   },
   "outputs": [],
   "source": [
    "(\"a\"*10240).encode('utf-8')"
   ]
  },
  {
   "cell_type": "code",
   "execution_count": 0,
   "metadata": {
    "application/vnd.databricks.v1+cell": {
     "cellMetadata": {
      "byteLimit": 2048000,
      "rowLimit": 10000
     },
     "inputWidgets": {},
     "nuid": "3f6c3f15-bd16-4f2e-ba39-83977f18dda3",
     "showTitle": false,
     "title": ""
    }
   },
   "outputs": [],
   "source": [
    "(\"a\"*10240).encode('utf-8')"
   ]
  },
  {
   "cell_type": "code",
   "execution_count": 0,
   "metadata": {
    "application/vnd.databricks.v1+cell": {
     "cellMetadata": {
      "byteLimit": 2048000,
      "rowLimit": 10000
     },
     "inputWidgets": {},
     "nuid": "beeaf9be-1e8d-4b79-8b09-b4d9c4ed9aa5",
     "showTitle": false,
     "title": ""
    }
   },
   "outputs": [],
   "source": [
    "(\"a\"*10240).encode('utf-8')"
   ]
  },
  {
   "cell_type": "code",
   "execution_count": 0,
   "metadata": {
    "application/vnd.databricks.v1+cell": {
     "cellMetadata": {
      "byteLimit": 2048000,
      "rowLimit": 10000
     },
     "inputWidgets": {},
     "nuid": "c6e47714-cb32-4dcd-b6f0-6ba8cd592a57",
     "showTitle": false,
     "title": ""
    }
   },
   "outputs": [],
   "source": [
    "(\"a\"*10240).encode('utf-8')"
   ]
  },
  {
   "cell_type": "code",
   "execution_count": 0,
   "metadata": {
    "application/vnd.databricks.v1+cell": {
     "cellMetadata": {
      "byteLimit": 2048000,
      "rowLimit": 10000
     },
     "inputWidgets": {},
     "nuid": "39f3257e-c1fd-42f4-9bba-85960a9388eb",
     "showTitle": false,
     "title": ""
    }
   },
   "outputs": [],
   "source": [
    "(\"a\"*10240).encode('utf-8')"
   ]
  },
  {
   "cell_type": "code",
   "execution_count": 0,
   "metadata": {
    "application/vnd.databricks.v1+cell": {
     "cellMetadata": {
      "byteLimit": 2048000,
      "rowLimit": 10000
     },
     "inputWidgets": {},
     "nuid": "0f4804a5-02cf-4168-a123-175e1110ae6f",
     "showTitle": false,
     "title": ""
    }
   },
   "outputs": [],
   "source": [
    "(\"a\"*10240).encode('utf-8')"
   ]
  },
  {
   "cell_type": "code",
   "execution_count": 0,
   "metadata": {
    "application/vnd.databricks.v1+cell": {
     "cellMetadata": {
      "byteLimit": 2048000,
      "rowLimit": 10000
     },
     "inputWidgets": {},
     "nuid": "7897117f-2929-405b-9461-339811d9a682",
     "showTitle": false,
     "title": ""
    }
   },
   "outputs": [],
   "source": [
    "(\"a\"*10240).encode('utf-8')"
   ]
  },
  {
   "cell_type": "code",
   "execution_count": 0,
   "metadata": {
    "application/vnd.databricks.v1+cell": {
     "cellMetadata": {
      "byteLimit": 2048000,
      "rowLimit": 10000
     },
     "inputWidgets": {},
     "nuid": "e1e0169c-5b9e-469d-932c-326d9ce8d9cf",
     "showTitle": false,
     "title": ""
    }
   },
   "outputs": [],
   "source": [
    "(\"a\"*10240).encode('utf-8')"
   ]
  },
  {
   "cell_type": "code",
   "execution_count": 0,
   "metadata": {
    "application/vnd.databricks.v1+cell": {
     "cellMetadata": {
      "byteLimit": 2048000,
      "rowLimit": 10000
     },
     "inputWidgets": {},
     "nuid": "fb08f1a6-962d-4484-aaf9-935330d4de67",
     "showTitle": false,
     "title": ""
    }
   },
   "outputs": [],
   "source": [
    "(\"a\"*10240).encode('utf-8')"
   ]
  },
  {
   "cell_type": "code",
   "execution_count": 0,
   "metadata": {
    "application/vnd.databricks.v1+cell": {
     "cellMetadata": {
      "byteLimit": 2048000,
      "rowLimit": 10000
     },
     "inputWidgets": {},
     "nuid": "1f3a3975-2b2c-43ea-9c09-17fcf3294ac8",
     "showTitle": false,
     "title": ""
    }
   },
   "outputs": [],
   "source": [
    "(\"a\"*10240).encode('utf-8')"
   ]
  },
  {
   "cell_type": "code",
   "execution_count": 0,
   "metadata": {
    "application/vnd.databricks.v1+cell": {
     "cellMetadata": {
      "byteLimit": 2048000,
      "rowLimit": 10000
     },
     "inputWidgets": {},
     "nuid": "a9925bc0-9057-461f-9f42-bfb8eb5f2039",
     "showTitle": false,
     "title": ""
    }
   },
   "outputs": [],
   "source": [
    "(\"a\"*10240).encode('utf-8')"
   ]
  },
  {
   "cell_type": "code",
   "execution_count": 0,
   "metadata": {
    "application/vnd.databricks.v1+cell": {
     "cellMetadata": {
      "byteLimit": 2048000,
      "rowLimit": 10000
     },
     "inputWidgets": {},
     "nuid": "b45d009a-7c5f-4c4d-afdd-f63767124795",
     "showTitle": false,
     "title": ""
    }
   },
   "outputs": [],
   "source": [
    "(\"a\"*10240).encode('utf-8')"
   ]
  },
  {
   "cell_type": "code",
   "execution_count": 0,
   "metadata": {
    "application/vnd.databricks.v1+cell": {
     "cellMetadata": {
      "byteLimit": 2048000,
      "rowLimit": 10000
     },
     "inputWidgets": {},
     "nuid": "e47566b6-e4c1-40b4-8017-5d6ad8f04360",
     "showTitle": false,
     "title": ""
    }
   },
   "outputs": [],
   "source": [
    "(\"a\"*10240).encode('utf-8')"
   ]
  },
  {
   "cell_type": "code",
   "execution_count": 0,
   "metadata": {
    "application/vnd.databricks.v1+cell": {
     "cellMetadata": {
      "byteLimit": 2048000,
      "rowLimit": 10000
     },
     "inputWidgets": {},
     "nuid": "e608c031-1fce-46bb-9000-c959548d2d4d",
     "showTitle": false,
     "title": ""
    }
   },
   "outputs": [],
   "source": [
    "(\"a\"*10240).encode('utf-8')"
   ]
  },
  {
   "cell_type": "code",
   "execution_count": 0,
   "metadata": {
    "application/vnd.databricks.v1+cell": {
     "cellMetadata": {
      "byteLimit": 2048000,
      "rowLimit": 10000
     },
     "inputWidgets": {},
     "nuid": "449bfa35-b4fa-4e83-8fb5-05ec90d00183",
     "showTitle": false,
     "title": ""
    }
   },
   "outputs": [],
   "source": [
    "(\"a\"*10240).encode('utf-8')"
   ]
  },
  {
   "cell_type": "code",
   "execution_count": 0,
   "metadata": {
    "application/vnd.databricks.v1+cell": {
     "cellMetadata": {
      "byteLimit": 2048000,
      "rowLimit": 10000
     },
     "inputWidgets": {},
     "nuid": "30bba891-47df-4d40-a20f-2f63d34cc6e5",
     "showTitle": false,
     "title": ""
    }
   },
   "outputs": [],
   "source": [
    "(\"a\"*10240).encode('utf-8')"
   ]
  },
  {
   "cell_type": "code",
   "execution_count": 0,
   "metadata": {
    "application/vnd.databricks.v1+cell": {
     "cellMetadata": {
      "byteLimit": 2048000,
      "rowLimit": 10000
     },
     "inputWidgets": {},
     "nuid": "fa410c7a-f928-4453-a218-0a3e6611ffe8",
     "showTitle": false,
     "title": ""
    }
   },
   "outputs": [],
   "source": [
    "(\"a\"*10240).encode('utf-8')"
   ]
  },
  {
   "cell_type": "code",
   "execution_count": 0,
   "metadata": {
    "application/vnd.databricks.v1+cell": {
     "cellMetadata": {
      "byteLimit": 2048000,
      "rowLimit": 10000
     },
     "inputWidgets": {},
     "nuid": "65be8224-7920-495d-aaa2-bcafb6685a67",
     "showTitle": false,
     "title": ""
    }
   },
   "outputs": [],
   "source": [
    "(\"a\"*10240).encode('utf-8')"
   ]
  },
  {
   "cell_type": "code",
   "execution_count": 0,
   "metadata": {
    "application/vnd.databricks.v1+cell": {
     "cellMetadata": {
      "byteLimit": 2048000,
      "rowLimit": 10000
     },
     "inputWidgets": {},
     "nuid": "89dc888b-e296-418e-a964-78defe4dc3b6",
     "showTitle": false,
     "title": ""
    }
   },
   "outputs": [],
   "source": [
    "(\"a\"*10240).encode('utf-8')"
   ]
  },
  {
   "cell_type": "code",
   "execution_count": 0,
   "metadata": {
    "application/vnd.databricks.v1+cell": {
     "cellMetadata": {
      "byteLimit": 2048000,
      "rowLimit": 10000
     },
     "inputWidgets": {},
     "nuid": "20193cd1-0c4d-46fa-9190-6f188b83028c",
     "showTitle": false,
     "title": ""
    }
   },
   "outputs": [],
   "source": [
    "(\"a\"*10240).encode('utf-8')"
   ]
  },
  {
   "cell_type": "code",
   "execution_count": 0,
   "metadata": {
    "application/vnd.databricks.v1+cell": {
     "cellMetadata": {
      "byteLimit": 2048000,
      "rowLimit": 10000
     },
     "inputWidgets": {},
     "nuid": "968df1eb-01ca-4acf-b198-6aa74648ab25",
     "showTitle": false,
     "title": ""
    }
   },
   "outputs": [],
   "source": [
    "(\"a\"*10240).encode('utf-8')"
   ]
  },
  {
   "cell_type": "code",
   "execution_count": 0,
   "metadata": {
    "application/vnd.databricks.v1+cell": {
     "cellMetadata": {
      "byteLimit": 2048000,
      "rowLimit": 10000
     },
     "inputWidgets": {},
     "nuid": "9b7836ac-b857-4c2b-8d38-560f6dbf1f81",
     "showTitle": false,
     "title": ""
    }
   },
   "outputs": [],
   "source": [
    "(\"a\"*10240).encode('utf-8')"
   ]
  },
  {
   "cell_type": "code",
   "execution_count": 0,
   "metadata": {
    "application/vnd.databricks.v1+cell": {
     "cellMetadata": {
      "byteLimit": 2048000,
      "rowLimit": 10000
     },
     "inputWidgets": {},
     "nuid": "96d73a85-fcde-4040-9f0f-22974120851d",
     "showTitle": false,
     "title": ""
    }
   },
   "outputs": [],
   "source": [
    "(\"a\"*10240).encode('utf-8')"
   ]
  },
  {
   "cell_type": "code",
   "execution_count": 0,
   "metadata": {
    "application/vnd.databricks.v1+cell": {
     "cellMetadata": {
      "byteLimit": 2048000,
      "rowLimit": 10000
     },
     "inputWidgets": {},
     "nuid": "62349597-095b-4485-b8eb-e085334deb28",
     "showTitle": false,
     "title": ""
    }
   },
   "outputs": [],
   "source": [
    "(\"a\"*10240).encode('utf-8')"
   ]
  },
  {
   "cell_type": "code",
   "execution_count": 0,
   "metadata": {
    "application/vnd.databricks.v1+cell": {
     "cellMetadata": {
      "byteLimit": 2048000,
      "rowLimit": 10000
     },
     "inputWidgets": {},
     "nuid": "07015c60-479c-481d-b069-df7ab1acc48f",
     "showTitle": false,
     "title": ""
    }
   },
   "outputs": [],
   "source": [
    "(\"a\"*10240).encode('utf-8')"
   ]
  },
  {
   "cell_type": "code",
   "execution_count": 0,
   "metadata": {
    "application/vnd.databricks.v1+cell": {
     "cellMetadata": {
      "byteLimit": 2048000,
      "rowLimit": 10000
     },
     "inputWidgets": {},
     "nuid": "85f24a60-9055-4eac-a676-3cfd830b08fd",
     "showTitle": false,
     "title": ""
    }
   },
   "outputs": [],
   "source": [
    "(\"a\"*10240).encode('utf-8')"
   ]
  },
  {
   "cell_type": "code",
   "execution_count": 0,
   "metadata": {
    "application/vnd.databricks.v1+cell": {
     "cellMetadata": {
      "byteLimit": 2048000,
      "rowLimit": 10000
     },
     "inputWidgets": {},
     "nuid": "4801d81f-1901-439a-9f81-674ea90d2453",
     "showTitle": false,
     "title": ""
    }
   },
   "outputs": [],
   "source": [
    "(\"a\"*10240).encode('utf-8')"
   ]
  },
  {
   "cell_type": "code",
   "execution_count": 0,
   "metadata": {
    "application/vnd.databricks.v1+cell": {
     "cellMetadata": {
      "byteLimit": 2048000,
      "rowLimit": 10000
     },
     "inputWidgets": {},
     "nuid": "aec7db07-2d45-4d7c-8eb4-5eedab6b2d8f",
     "showTitle": false,
     "title": ""
    }
   },
   "outputs": [],
   "source": [
    "(\"a\"*10240).encode('utf-8')"
   ]
  },
  {
   "cell_type": "code",
   "execution_count": 0,
   "metadata": {
    "application/vnd.databricks.v1+cell": {
     "cellMetadata": {
      "byteLimit": 2048000,
      "rowLimit": 10000
     },
     "inputWidgets": {},
     "nuid": "9162c898-642d-4281-8cb1-08dc066c1446",
     "showTitle": false,
     "title": ""
    }
   },
   "outputs": [],
   "source": [
    "(\"a\"*10240).encode('utf-8')"
   ]
  },
  {
   "cell_type": "code",
   "execution_count": 0,
   "metadata": {
    "application/vnd.databricks.v1+cell": {
     "cellMetadata": {
      "byteLimit": 2048000,
      "rowLimit": 10000
     },
     "inputWidgets": {},
     "nuid": "5bf1e10c-468a-4b42-8ee0-f61919fa1eb0",
     "showTitle": false,
     "title": ""
    }
   },
   "outputs": [],
   "source": [
    "(\"a\"*10240).encode('utf-8')"
   ]
  }
 ],
 "metadata": {
  "application/vnd.databricks.v1+notebook": {
   "dashboards": [],
   "language": "python",
   "notebookMetadata": {
    "pythonIndentUnit": 4
   },
   "notebookName": "(Clone) testnb",
   "widgets": {}
  }
 },
 "nbformat": 4,
 "nbformat_minor": 0
}
